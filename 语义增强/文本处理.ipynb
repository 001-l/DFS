{
 "cells": [
  {
   "cell_type": "code",
   "execution_count": 1,
   "id": "25c5167e",
   "metadata": {},
   "outputs": [
    {
     "name": "stderr",
     "output_type": "stream",
     "text": [
      "D:\\anaconda3\\envs\\pytorch\\lib\\site-packages\\tqdm\\auto.py:21: TqdmWarning: IProgress not found. Please update jupyter and ipywidgets. See https://ipywidgets.readthedocs.io/en/stable/user_install.html\n",
      "  from .autonotebook import tqdm as notebook_tqdm\n",
      "D:\\anaconda3\\envs\\pytorch\\lib\\site-packages\\transformers\\utils\\generic.py:311: FutureWarning: `torch.utils._pytree._register_pytree_node` is deprecated. Please use `torch.utils._pytree.register_pytree_node` instead.\n",
      "  torch.utils._pytree._register_pytree_node(\n",
      "D:\\anaconda3\\envs\\pytorch\\lib\\site-packages\\transformers\\utils\\generic.py:311: FutureWarning: `torch.utils._pytree._register_pytree_node` is deprecated. Please use `torch.utils._pytree.register_pytree_node` instead.\n",
      "  torch.utils._pytree._register_pytree_node(\n"
     ]
    }
   ],
   "source": [
    "import math\n",
    "import torch\n",
    "import numpy as np\n",
    "import pandas as pd\n",
    "from transformers import BertTokenizer, BertModel, AutoTokenizer, AutoModel"
   ]
  },
  {
   "cell_type": "code",
   "execution_count": 2,
   "id": "ceef3b12",
   "metadata": {},
   "outputs": [],
   "source": [
    "file_path = \"语义增强文本.xlsx\"\n",
    "data = pd.read_excel(file_path)"
   ]
  },
  {
   "cell_type": "code",
   "execution_count": 3,
   "id": "9991a3b1",
   "metadata": {
    "scrolled": true
   },
   "outputs": [],
   "source": [
    "# 以 PubMedBERT 为例\n",
    "tokenizer = AutoTokenizer.from_pretrained(\"microsoft/BiomedNLP-PubMedBERT-base-uncased-abstract\")\n",
    "model = AutoModel.from_pretrained(\"microsoft/BiomedNLP-PubMedBERT-base-uncased-abstract\")"
   ]
  },
  {
   "cell_type": "code",
   "execution_count": 4,
   "id": "ffcc6d10",
   "metadata": {},
   "outputs": [],
   "source": [
    "texts = data['输出结果']"
   ]
  },
  {
   "cell_type": "code",
   "execution_count": 5,
   "id": "ffc909ac",
   "metadata": {},
   "outputs": [],
   "source": [
    "lengths = []\n",
    "for text in texts:\n",
    "    enc = tokenizer(text, return_tensors='pt', padding=False, truncation=False)\n",
    "    lengths.append(enc['input_ids'].size(1)) "
   ]
  },
  {
   "cell_type": "code",
   "execution_count": 6,
   "id": "7d825b97",
   "metadata": {},
   "outputs": [
    {
     "name": "stdout",
     "output_type": "stream",
     "text": [
      "计算得到的平均 token 数（max_length）：189\n"
     ]
    }
   ],
   "source": [
    "avg_len = math.ceil(sum(lengths) / len(lengths))\n",
    "print(f\"计算得到的平均 token 数（max_length）：{avg_len}\")"
   ]
  },
  {
   "cell_type": "code",
   "execution_count": 7,
   "id": "eedaa514",
   "metadata": {},
   "outputs": [],
   "source": [
    "def get_text_embedding(text):\n",
    "    inputs = tokenizer(text, return_tensors='pt', padding=True, truncation=True, max_length=189)\n",
    "    with torch.no_grad():\n",
    "        outputs = model(**inputs)\n",
    "    return outputs.last_hidden_state[:, 0, :]"
   ]
  },
  {
   "cell_type": "code",
   "execution_count": 8,
   "id": "707568ad",
   "metadata": {},
   "outputs": [],
   "source": [
    "text_embeddings = np.array([get_text_embedding(text) for text in data['输出结果']])"
   ]
  },
  {
   "cell_type": "code",
   "execution_count": 9,
   "id": "2d41fc87",
   "metadata": {},
   "outputs": [],
   "source": [
    "np.save('PubMedBERT.npy', text_embeddings.squeeze())"
   ]
  },
  {
   "cell_type": "code",
   "execution_count": 24,
   "id": "49e77b5d",
   "metadata": {},
   "outputs": [],
   "source": [
    "text_embeddings = np.load('PubMedBERT.npy')"
   ]
  },
  {
   "cell_type": "code",
   "execution_count": null,
   "id": "0f871181",
   "metadata": {},
   "outputs": [],
   "source": []
  }
 ],
 "metadata": {
  "kernelspec": {
   "display_name": "Python (pytorch)",
   "language": "python",
   "name": "pytorch"
  },
  "language_info": {
   "codemirror_mode": {
    "name": "ipython",
    "version": 3
   },
   "file_extension": ".py",
   "mimetype": "text/x-python",
   "name": "python",
   "nbconvert_exporter": "python",
   "pygments_lexer": "ipython3",
   "version": "3.9.18"
  }
 },
 "nbformat": 4,
 "nbformat_minor": 5
}
